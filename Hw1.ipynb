{
 "cells": [
  {
   "cell_type": "code",
   "execution_count": 3,
   "id": "e911bf59-9104-4909-b102-26ddeae982c8",
   "metadata": {},
   "outputs": [],
   "source": [
    "import numpy as np"
   ]
  },
  {
   "cell_type": "markdown",
   "id": "9ef945a0-1b17-4644-b566-8df33f889f79",
   "metadata": {},
   "source": [
    "Створіть одновимірний масив (вектор) з першими 10-ма натуральними числами та виведіть його значення."
   ]
  },
  {
   "cell_type": "code",
   "execution_count": 2,
   "id": "da8993c1-317a-4aa2-befe-c97e59a69daa",
   "metadata": {},
   "outputs": [
    {
     "name": "stdout",
     "output_type": "stream",
     "text": [
      "[ 1  2  3  4  5  6  7  8  9 10]\n"
     ]
    }
   ],
   "source": [
    "a = np.array([1, 2, 3, 4, 5, 6, 7, 8, 9, 10])\n",
    "print(a)"
   ]
  },
  {
   "cell_type": "markdown",
   "id": "d8e1ab67-f039-49b8-9e4e-b5754fdf229b",
   "metadata": {},
   "source": [
    "Створіть двовимірний масив (матрицю) розміром 3x3, заповніть його нулями та виведіть його значення.\n"
   ]
  },
  {
   "cell_type": "code",
   "execution_count": 5,
   "id": "410117e9-dc59-45bb-880d-4a8ec7b2ad46",
   "metadata": {},
   "outputs": [
    {
     "name": "stdout",
     "output_type": "stream",
     "text": [
      "[[0 0 0]\n",
      " [0 0 0]\n",
      " [0 0 0]]\n"
     ]
    }
   ],
   "source": [
    "m = np.zeros((3, 3), dtype = int)\n",
    "print(m)"
   ]
  },
  {
   "cell_type": "markdown",
   "id": "b4089fb3-da7e-43d7-adb9-3f25c68eb798",
   "metadata": {},
   "source": [
    "Створіть масив розміром 5x5, заповніть його випадковими цілими числами в діапазоні від 1 до 10 та виведіть його значення."
   ]
  },
  {
   "cell_type": "code",
   "execution_count": 8,
   "id": "2d22b8a6-07fd-4b5a-bce7-9b91c751a737",
   "metadata": {},
   "outputs": [
    {
     "name": "stdout",
     "output_type": "stream",
     "text": [
      "[[9 5 6 5 5]\n",
      " [5 5 9 8 5]\n",
      " [7 6 5 9 3]\n",
      " [4 1 9 1 1]\n",
      " [0 3 1 8 9]]\n"
     ]
    }
   ],
   "source": [
    "m = np.random.randint(0, 10, (5, 5))\n",
    "print(m)"
   ]
  },
  {
   "cell_type": "markdown",
   "id": "34be6ae1-b5f3-4c5b-a7b5-af48f36f1fd4",
   "metadata": {},
   "source": [
    "Створіть масив розміром 4x4, заповніть його випадковими дійсними числами в діапазоні від 0 до 1 та виведіть його значення.\n"
   ]
  },
  {
   "cell_type": "code",
   "execution_count": 11,
   "id": "b3765ac4-1ebc-49a5-815c-5f75781dda45",
   "metadata": {},
   "outputs": [
    {
     "name": "stdout",
     "output_type": "stream",
     "text": [
      "[[1 1 1 1]\n",
      " [0 0 0 0]\n",
      " [1 1 1 1]\n",
      " [0 1 0 1]]\n"
     ]
    }
   ],
   "source": [
    "m = np.random.randint(0, 2, (4, 4))\n",
    "print(m)"
   ]
  },
  {
   "cell_type": "markdown",
   "id": "0b2f2ccb-944a-4c79-875e-2b269f7f2608",
   "metadata": {},
   "source": [
    "Створіть два одновимірних масиви розміром 5, заповніть їх випадковими цілими числами в діапазоні від 1 до 10 та виконайте на них поелементні операції додавання, віднімання та множення."
   ]
  },
  {
   "cell_type": "code",
   "execution_count": 14,
   "id": "5625bb0a-025c-413d-8923-430e01ccb7a7",
   "metadata": {},
   "outputs": [
    {
     "name": "stdout",
     "output_type": "stream",
     "text": [
      "[4 6 1 1 5]\n",
      "[1 9 3 1 7]\n",
      "[ 5 15  4  2 12]\n",
      "[ 3 -3 -2  0 -2]\n",
      "[ 4 54  3  1 35]\n"
     ]
    }
   ],
   "source": [
    "a = np.random.randint(1, 10, 5)\n",
    "b = np.random.randint(1, 10, 5)\n",
    "print(a)\n",
    "print(b)\n",
    "print(a + b)\n",
    "print(a - b)\n",
    "print(a * b)"
   ]
  },
  {
   "cell_type": "markdown",
   "id": "158608d0-1a13-4f66-ac73-3d6050b848f8",
   "metadata": {},
   "source": [
    "Створіть два вектори розміром 7, заповніть довільними числами та знайдіть їх скалярний добуток."
   ]
  },
  {
   "cell_type": "code",
   "execution_count": 16,
   "id": "0bcffd84-a9d1-4bd6-8c44-98eebf04cd54",
   "metadata": {},
   "outputs": [
    {
     "name": "stdout",
     "output_type": "stream",
     "text": [
      "148\n"
     ]
    }
   ],
   "source": [
    "a = np.random.randint(1, 10, 5)\n",
    "b = np.random.randint(1, 10, 5)\n",
    "print(np.dot(a, b))"
   ]
  },
  {
   "cell_type": "markdown",
   "id": "dfa6ccc7-a264-4bfd-b06c-f49a5073eff7",
   "metadata": {},
   "source": [
    "Створіть дві матриці розміром 2x2 та 2x3, заповніть їх випадковими цілими числами в діапазоні від 1 до 10 та перемножте їх між собою."
   ]
  },
  {
   "cell_type": "code",
   "execution_count": 19,
   "id": "fb01cc00-d4d6-484b-b2b9-fc37d0de7933",
   "metadata": {},
   "outputs": [
    {
     "name": "stdout",
     "output_type": "stream",
     "text": [
      "[[ 84 112  78]\n",
      " [ 12  22  33]]\n"
     ]
    }
   ],
   "source": [
    "m1 = np.random.randint(1, 11, (2, 2))\n",
    "m2 = np.random.randint(1, 11, (2, 3))\n",
    "print(np.dot(m1, m2))"
   ]
  },
  {
   "cell_type": "markdown",
   "id": "df8689ea-fd6e-4f94-a693-077e8d8af2df",
   "metadata": {},
   "source": [
    "Створіть матрицю розміром 3x3, заповніть її випадковими цілими числами в діапазоні від 1 до 10 та знайдіть її обернену матрицю."
   ]
  },
  {
   "cell_type": "markdown",
   "id": "d9f1107e-81f9-439a-863a-ff8a4e7f7678",
   "metadata": {},
   "source": [
    "m = np.random.randint(1, 11, (3, 3))\n",
    "m_inv = np.linalg.inv(m)\n",
    "print(m_inv)"
   ]
  },
  {
   "cell_type": "markdown",
   "id": "1e0af2d6-81a8-44dc-9e89-c4049aaaa3ac",
   "metadata": {},
   "source": [
    "Створіть матрицю розміром 4x4, заповніть її випадковими дійсними числами в діапазоні від 0 до 1 та транспонуйте її."
   ]
  },
  {
   "cell_type": "code",
   "execution_count": 23,
   "id": "0c1fb834-f957-40e1-be3d-62b9cb14a69c",
   "metadata": {},
   "outputs": [
    {
     "name": "stdout",
     "output_type": "stream",
     "text": [
      "[[1 0 0 1]\n",
      " [0 1 0 0]\n",
      " [0 0 0 0]\n",
      " [1 1 0 0]]\n"
     ]
    }
   ],
   "source": [
    "m = np.random.randint(0, 2, (4, 4))\n",
    "print(m.T)"
   ]
  },
  {
   "cell_type": "markdown",
   "id": "576dbeec-2296-4229-86e9-c485fe441bbd",
   "metadata": {},
   "source": [
    "Створіть матрицю розміром 3x4 та вектор розміром 4, заповніть їх випадковими цілими числами в діапазоні від 1 до 10 та перемножте матрицю на вектор."
   ]
  },
  {
   "cell_type": "code",
   "execution_count": 26,
   "id": "8adf3929-e0bd-4677-b1ab-b6f272d4fb42",
   "metadata": {},
   "outputs": [
    {
     "name": "stdout",
     "output_type": "stream",
     "text": [
      "[[  8  32  50   3]\n",
      " [ 32  48 100  27]\n",
      " [ 72  32  60  24]]\n"
     ]
    }
   ],
   "source": [
    "m = np.random.randint(1, 11, (3, 4))\n",
    "a = np.random.randint(1 , 11, 4)\n",
    "print(m * a)"
   ]
  },
  {
   "cell_type": "markdown",
   "id": "f43425bd-e2b2-476a-95a2-8304ccc2ea5d",
   "metadata": {},
   "source": [
    "Створіть матрицю розміром 2x3 та вектор розміром 3, заповніть їх випадковими дійсними числами в діапазоні від 0 до 1 та перемножте матрицю на вектор."
   ]
  },
  {
   "cell_type": "code",
   "execution_count": 28,
   "id": "528df097-fb01-401b-afdc-c5b123b5d874",
   "metadata": {},
   "outputs": [
    {
     "name": "stdout",
     "output_type": "stream",
     "text": [
      "[[0.75267675 0.35932931 0.02033767]\n",
      " [0.43840962 0.24666425 0.35198898]\n",
      " [0.18185075 0.15660303 0.35143278]]\n"
     ]
    }
   ],
   "source": [
    "m = np.random.random((3, 3))\n",
    "a = np.random.random(3)\n",
    "print(m * a)"
   ]
  },
  {
   "cell_type": "markdown",
   "id": "dd3948da-a359-420c-baa0-6f5a1e5ba3db",
   "metadata": {},
   "source": [
    "Створіть дві матриці розміром 2x2, заповніть їх випадковими цілими числами в діапазоні від 1 до 10 та виконайте їхнє поелементне множення."
   ]
  },
  {
   "cell_type": "code",
   "execution_count": 29,
   "id": "578fac58-fb9d-4781-a609-2d3450401105",
   "metadata": {},
   "outputs": [
    {
     "name": "stdout",
     "output_type": "stream",
     "text": [
      "[[54 27]\n",
      " [10 14]]\n"
     ]
    }
   ],
   "source": [
    "m_1 = np.random.randint(1, 11, (2, 2))\n",
    "m_2 = np.random.randint(1, 11, (2, 2))\n",
    "print(m_1 * m_2)"
   ]
  },
  {
   "cell_type": "markdown",
   "id": "a19bb9b4-e8a5-4473-97f1-1bfad5f4ddf7",
   "metadata": {},
   "source": [
    "Створіть дві матриці розміром 2x2, заповніть їх випадковими цілими числами в діапазоні від 1 до 10 та знайдіть їх добуток."
   ]
  },
  {
   "cell_type": "code",
   "execution_count": 4,
   "id": "42a27232-c370-4718-91f9-1eea0d1ee76a",
   "metadata": {},
   "outputs": [
    {
     "name": "stdout",
     "output_type": "stream",
     "text": [
      "[[37 91]\n",
      " [42 84]]\n"
     ]
    }
   ],
   "source": [
    "m_1 = np.random.randint(1, 11, (2, 2))\n",
    "m_2 = np.random.randint(1, 11, (2, 2))\n",
    "print(np.dot(m_1, m_2))"
   ]
  },
  {
   "cell_type": "markdown",
   "id": "57d3685c-e300-4a8a-b65b-b597db1414cb",
   "metadata": {},
   "source": [
    "Створіть матрицю розміром 5x5, заповніть її випадковими цілими числами в діапазоні від 1 до 100 та знайдіть суму елементів матриці."
   ]
  },
  {
   "cell_type": "code",
   "execution_count": 5,
   "id": "b7906c0e-4fbc-4ad0-aab2-831c8f4168b5",
   "metadata": {},
   "outputs": [
    {
     "name": "stdout",
     "output_type": "stream",
     "text": [
      "1225\n"
     ]
    }
   ],
   "source": [
    "m = np.random.randint(1, 100, (5, 5))\n",
    "print(m.sum())"
   ]
  },
  {
   "cell_type": "markdown",
   "id": "29b5e68c-2144-4ccb-abe7-e3486b877d96",
   "metadata": {},
   "source": [
    "Створіть дві матриці розміром 4x4, заповніть їх випадковими цілими числами в діапазоні від 1 до 10 та знайдіть їхню різницю."
   ]
  },
  {
   "cell_type": "code",
   "execution_count": 6,
   "id": "da928715-c104-4300-983e-e7a3588d5e91",
   "metadata": {},
   "outputs": [
    {
     "name": "stdout",
     "output_type": "stream",
     "text": [
      "[[ 2  5  0 -7 -3]\n",
      " [ 2 -1 -8  7 -3]\n",
      " [ 3  6 -1 -4 -1]\n",
      " [-4 -7 -2  1  2]\n",
      " [ 3  9  0 -3 -5]]\n"
     ]
    }
   ],
   "source": [
    "m_1 = np.random.randint(1, 11, (5, 5))\n",
    "m_2 = np.random.randint(1, 11, (5, 5))\n",
    "print(m_1 - m_2)"
   ]
  },
  {
   "cell_type": "markdown",
   "id": "c79a3ecc-72e4-426c-82fb-d5d8c1aea2e9",
   "metadata": {},
   "source": [
    "Створіть матрицю розміром 3x3, заповніть її випадковими дійсними числами в діапазоні від 0 до 1 та знайдіть вектор-стовпчик, що містить суму елементів кожного рядка матриці."
   ]
  },
  {
   "cell_type": "code",
   "execution_count": 9,
   "id": "6e21f33c-dfa0-4e23-97c1-661091c9f221",
   "metadata": {},
   "outputs": [
    {
     "name": "stdout",
     "output_type": "stream",
     "text": [
      "[[ 1  1 10]\n",
      " [ 9 10  1]\n",
      " [ 9  2  7]]\n",
      "[[12]\n",
      " [20]\n",
      " [18]]\n"
     ]
    }
   ],
   "source": [
    "m = np.random.randint(1, 11, (3, 3))\n",
    "print(m)\n",
    "print(np.sum(m, axis=1, keepdims=True))"
   ]
  },
  {
   "cell_type": "markdown",
   "id": "b0822d39-3310-4f55-96f3-4a525a96f000",
   "metadata": {},
   "source": [
    "Створіть матрицю розміром 3x4 з довільними цілими числами і створінь матрицю з квадратами цих чисел."
   ]
  },
  {
   "cell_type": "code",
   "execution_count": 10,
   "id": "36ee1adb-3f28-4504-ad29-19ffc3da1350",
   "metadata": {},
   "outputs": [
    {
     "name": "stdout",
     "output_type": "stream",
     "text": [
      "[[ 6  2 10  9]\n",
      " [ 5  8  4  4]\n",
      " [ 7  9  6  2]]\n",
      "[[ 36   4 100  81]\n",
      " [ 25  64  16  16]\n",
      " [ 49  81  36   4]]\n"
     ]
    }
   ],
   "source": [
    "m = np.random.randint(1, 11, size=(3, 4))\n",
    "m_square = np.square(m)\n",
    "print(m)\n",
    "print(m_square)Створіть вектор розміром 4, заповніть його випадковими цілими числами в діапазоні від 1 до 50 та знайдіть вектор з квадратними коренями цих чисел."
   ]
  },
  {
   "cell_type": "markdown",
   "id": "a4c099d4-5d74-4c71-977a-792753393e30",
   "metadata": {},
   "source": [
    "Створіть вектор розміром 4, заповніть його випадковими цілими числами в діапазоні від 1 до 50 та знайдіть вектор з квадратними коренями цих чисел.\n"
   ]
  },
  {
   "cell_type": "code",
   "execution_count": 11,
   "id": "93ea5ff3-c9e1-4a8b-a6e5-48df743af817",
   "metadata": {},
   "outputs": [
    {
     "name": "stdout",
     "output_type": "stream",
     "text": [
      "[14 30 22 42]\n",
      "[ 196  900  484 1764]\n"
     ]
    }
   ],
   "source": [
    "a = np.random.randint(1, 51, size=4)\n",
    "a_square = np.square(a)\n",
    "print(a)\n",
    "print(a_square)"
   ]
  }
 ],
 "metadata": {
  "kernelspec": {
   "display_name": "Python 3 (ipykernel)",
   "language": "python",
   "name": "python3"
  },
  "language_info": {
   "codemirror_mode": {
    "name": "ipython",
    "version": 3
   },
   "file_extension": ".py",
   "mimetype": "text/x-python",
   "name": "python",
   "nbconvert_exporter": "python",
   "pygments_lexer": "ipython3",
   "version": "3.12.1"
  }
 },
 "nbformat": 4,
 "nbformat_minor": 5
}
